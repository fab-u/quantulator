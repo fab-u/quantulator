{
 "cells": [
  {
   "cell_type": "markdown",
   "id": "0cc44b81",
   "metadata": {},
   "source": [
    "# Grovers algorithm"
   ]
  },
  {
   "cell_type": "code",
   "execution_count": 11,
   "id": "3f799f03",
   "metadata": {},
   "outputs": [
    {
     "name": "stdout",
     "output_type": "stream",
     "text": [
      "Number of Iterations: 4\n",
      "Target index: 2\n",
      "Found index:  2 (probability: 0.9991823155432912)\n"
     ]
    }
   ],
   "source": [
    "import numpy as np\n",
    "\n",
    "n = 5 # Number of qubits\n",
    "N = 2**n # Number of states\n",
    "\n",
    "target_index = np.random.randint(0, N)\n",
    "U_omega = np.eye(N)\n",
    "U_omega[target_index, target_index] = -1\n",
    "\n",
    "s = np.ones(N) / np.sqrt(N)\n",
    "\n",
    "U_s = 2 * np.outer(s,s) - np.eye(N)\n",
    "\n",
    "r = int(np.floor(np.pi * np.sqrt(N) / 4))\n",
    "print(f\"Number of Iterations: {r}\")\n",
    "for i in range(r):\n",
    "    s = U_s @ U_omega @ s\n",
    "\n",
    "print(f\"Target index: {target_index}\")\n",
    "print(f\"Found index:  {np.argmax(s)} (probability: {np.max(s)**2})\")\n",
    "if N < 10:\n",
    "    print(\"\\nFinal state amplitudes:\")\n",
    "    for i, amp in enumerate(s):\n",
    "        binary = format(i, f\"0{n}b\")\n",
    "        print(f\"{i}: |{binary}>: {amp:.3f}, probability: {abs(amp)**2:.3f}\")"
   ]
  },
  {
   "cell_type": "markdown",
   "id": "c9b52161",
   "metadata": {},
   "source": [
    "# Possible applications\n",
    "- Brute force key search for encriptions\n",
    "- Database search\n",
    "\n",
    "# Is this not redundant?\n",
    "At first, grovers algorithm seems redundant.\n",
    "\n"
   ]
  },
  {
   "cell_type": "code",
   "execution_count": null,
   "id": "a89b8d6e",
   "metadata": {},
   "outputs": [],
   "source": []
  }
 ],
 "metadata": {
  "kernelspec": {
   "display_name": ".venv",
   "language": "python",
   "name": "python3"
  },
  "language_info": {
   "codemirror_mode": {
    "name": "ipython",
    "version": 3
   },
   "file_extension": ".py",
   "mimetype": "text/x-python",
   "name": "python",
   "nbconvert_exporter": "python",
   "pygments_lexer": "ipython3",
   "version": "3.13.5"
  }
 },
 "nbformat": 4,
 "nbformat_minor": 5
}
