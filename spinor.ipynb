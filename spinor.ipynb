{
 "cells": [
  {
   "cell_type": "markdown",
   "id": "cbeef866",
   "metadata": {},
   "source": [
    "$$\n",
    "\\def\\upspin{|+\\rangle}\n",
    "\\def\\downspin{|-\\rangle}\n",
    "$$\n",
    "# Some theory about spinors\n",
    "___\n",
    "More precisely, we will look at bosonic spin here, which is for example exhibited by electrons.\n",
    "A bosonic spinor can have exactly two states; up $\\upspin$ and down $\\downspin$\n",
    "\n",
    "The wave function $|\\psi\\rangle$ of a particle can be in a superposition of both those states\n",
    "$$\n",
    "|\\psi\\rangle = a \\upspin + b\\downspin\n",
    "$$"
   ]
  },
  {
   "cell_type": "markdown",
   "id": "bdfc1ce8",
   "metadata": {},
   "source": []
  }
 ],
 "metadata": {
  "kernelspec": {
   "display_name": "Julia 1.10.3",
   "language": "julia",
   "name": "julia-1.10"
  },
  "language_info": {
   "file_extension": ".jl",
   "mimetype": "application/julia",
   "name": "julia",
   "version": "1.10.3"
  }
 },
 "nbformat": 4,
 "nbformat_minor": 5
}
